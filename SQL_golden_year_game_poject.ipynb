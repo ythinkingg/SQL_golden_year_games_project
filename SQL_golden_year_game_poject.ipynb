{
 "cells": [
  {
   "cell_type": "code",
   "execution_count": null,
   "id": "0ad358c3-dbda-4708-824f-8c726077d3c5",
   "metadata": {},
   "outputs": [],
   "source": [
    "%%sql\n",
    "postgresql:///games\n"
   ]
  },
  {
   "cell_type": "code",
   "execution_count": null,
   "id": "7b6fee45-4bbc-4a99-9651-6e173cae4d1b",
   "metadata": {},
   "outputs": [],
   "source": [
    "%%sql\n",
    "-- Select all information for the top ten best-selling games\n",
    "-- Order the results from best-selling game down to tenth best-selling\n",
    "SELECT *\n",
    "FROM game_sales\n",
    "ORDER BY games_sold DESC\n",
    "LIMIT 10\n"
   ]
  },
  {
   "cell_type": "code",
   "execution_count": null,
   "id": "d238cb03-a86e-4c70-bfb9-5e8d745329e2",
   "metadata": {},
   "outputs": [],
   "source": [
    "%%sql \n",
    "\n",
    "-- Join games_sales and reviews\n",
    "-- Select a count of the number of games where both critic_score and user_score are null\n",
    "SELECT COUNT(*) \n",
    "FROM game_sales\n",
    "JOIN reviews ON game_sales.game = reviews.game\n",
    "WHERE critic_score IS NULL AND user_score IS NULL\n"
   ]
  },
  {
   "cell_type": "code",
   "execution_count": null,
   "id": "d0fc89be-cd9e-4156-96f8-a166396acd95",
   "metadata": {},
   "outputs": [],
   "source": [
    "%%sql\n",
    "\n",
    "-- Select release year and average critic score for each year, rounded and aliased\n",
    "-- Join the game_sales and reviews tables\n",
    "-- Group by release year\n",
    "-- Order the data from highest to lowest avg_critic_score and limit to 10 results\n",
    "SELECT year, ROUND(AVG(critic_score),2) AS avg_cri_score\n",
    "FROM game_sales\n",
    "JOIN reviews ON game_sales.game = reviews.game\n",
    "GROUP BY year\n",
    "ORDER BY avg_cri_score DESC\n",
    "LIMIT 10\n"
   ]
  },
  {
   "cell_type": "code",
   "execution_count": null,
   "id": "0271a2a8-7ea6-4476-920b-7419af22badf",
   "metadata": {},
   "outputs": [],
   "source": [
    "%%sql \n",
    "\n",
    "-- Paste your query from the previous task; \n",
    "-- update it to add a count of games released in each year called num_games\n",
    "-- Update the query so that it only returns years that have more than four reviewed games\n",
    "SELECT year, ROUND(AVG(critic_score),2) AS avg_cri_score, COUNT(*) AS num_games\n",
    "FROM game_sales\n",
    "JOIN reviews ON game_sales.game = reviews.game\n",
    "GROUP BY year\n",
    "HAVING COUNT(*) > 4\n",
    "ORDER BY avg_cri_score DESC\n",
    "LIMIT 10\n"
   ]
  },
  {
   "cell_type": "code",
   "execution_count": null,
   "id": "78bfb9d9-aeaa-4b8a-aaad-51d521807494",
   "metadata": {},
   "outputs": [],
   "source": [
    "%%sql \n",
    "\n",
    "-- Select the year and avg_critic_score for those years that dropped off the list of critic favorites \n",
    "-- Order the results from highest to lowest avg_critic_score\n",
    "SELECT year, avg_critic_score FROM top_critic_years\n",
    "EXCEPT\n",
    "SELECT year, avg_critic_score FROM top_critic_years_more_than_four_games\n",
    "ORDER BY avg_critic_score DESC\n"
   ]
  },
  {
   "cell_type": "code",
   "execution_count": null,
   "id": "3b04ccc1-12af-4d77-81ec-adefee023851",
   "metadata": {},
   "outputs": [],
   "source": [
    "%%sql\n",
    "-- Select year, an average of user_score, and a count of games released in a given year, aliased and rounded\n",
    "-- Include only years with more than four reviewed games; group data by year\n",
    "-- Order data by avg_user_score, and limit to ten results\n",
    "SELECT year, ROUND(AVG(user_score),2) AS avg_user_score, COUNT(*) AS num_games\n",
    "FROM game_sales\n",
    "JOIN reviews ON game_sales.game = reviews.game\n",
    "GROUP BY year\n",
    "HAVING COUNT(*) > 4\n",
    "ORDER BY avg_user_score DESC\n",
    "LIMIT 10\n"
   ]
  },
  {
   "cell_type": "code",
   "execution_count": null,
   "id": "6bc9039b-b67a-4b0a-a768-e56949385fe6",
   "metadata": {},
   "outputs": [],
   "source": [
    "%%sql \n",
    "\n",
    "-- Select the year results that appear on both tables\n",
    "SELECT year FROM top_critic_years_more_than_four_games\n",
    "INTERSECT\n",
    "SELECT year FROM top_user_years_more_than_four_games\n"
   ]
  },
  {
   "cell_type": "code",
   "execution_count": null,
   "id": "a7728aa4-45d2-4ee5-ab3d-96b3ef00a3a8",
   "metadata": {},
   "outputs": [],
   "source": [
    "%%sql \n",
    "\n",
    "-- Select year and sum of games_sold, aliased as total_games_sold; \n",
    "-- order results by total_games_sold descending\n",
    "-- Filter game_sales based on whether each year is in the list returned in the previous task\n",
    "SELECT g.year, SUM(g.games_sold) AS total_games_sold \n",
    "FROM game_sales g\n",
    "WHERE g.year IN\n",
    "(SELECT year  \n",
    "FROM top_user_years_more_than_four_games\n",
    "INTERSECT\n",
    "SELECT year\n",
    "FROM top_critic_years_more_than_four_games)\n",
    "GROUP BY g.year\n",
    "ORDER BY total_games_sold DESC;\n"
   ]
  }
 ],
 "metadata": {
  "kernelspec": {
   "display_name": "Python 3 (ipykernel)",
   "language": "python",
   "name": "python3"
  },
  "language_info": {
   "codemirror_mode": {
    "name": "ipython",
    "version": 3
   },
   "file_extension": ".py",
   "mimetype": "text/x-python",
   "name": "python",
   "nbconvert_exporter": "python",
   "pygments_lexer": "ipython3",
   "version": "3.10.13"
  }
 },
 "nbformat": 4,
 "nbformat_minor": 5
}
